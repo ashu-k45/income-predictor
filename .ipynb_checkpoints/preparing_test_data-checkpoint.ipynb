{
 "cells": [
  {
   "cell_type": "code",
   "execution_count": 2,
   "id": "c2a506a2",
   "metadata": {},
   "outputs": [],
   "source": [
    "import numpy as np\n",
    "import pandas as pd\n",
    "\n",
    "\n",
    "import matplotlib.pyplot as plt\n",
    "from matplotlib import rcParams\n",
    "import seaborn as sns\n",
    "%matplotlib inline\n",
    "\n",
    "\n",
    "import warnings\n",
    "warnings.filterwarnings('ignore');"
   ]
  },
  {
   "cell_type": "code",
   "execution_count": 3,
   "id": "fe08946b",
   "metadata": {},
   "outputs": [],
   "source": [
    "test=pd.read_csv(\"test.csv\")"
   ]
  },
  {
   "cell_type": "code",
   "execution_count": 4,
   "id": "c092eff8",
   "metadata": {},
   "outputs": [],
   "source": [
    "test['age'] = pd.cut(test['age'], bins = [0, 25, 50, 100], labels = ['Young', 'Adult', 'Old'])"
   ]
  },
  {
   "cell_type": "code",
   "execution_count": 5,
   "id": "83ed08b8",
   "metadata": {},
   "outputs": [],
   "source": [
    "test['captial diff']=test['capital-gain'] - test['capital-loss']"
   ]
  },
  {
   "cell_type": "code",
   "execution_count": 6,
   "id": "77ee9ff6",
   "metadata": {},
   "outputs": [],
   "source": [
    "test.drop('capital-gain',axis=1,inplace=True)"
   ]
  },
  {
   "cell_type": "code",
   "execution_count": 7,
   "id": "e3f71710",
   "metadata": {},
   "outputs": [],
   "source": [
    "test.drop('capital-loss',axis=1,inplace=True)"
   ]
  },
  {
   "cell_type": "code",
   "execution_count": 8,
   "id": "692908f9",
   "metadata": {},
   "outputs": [],
   "source": [
    "test['captial diff']=pd.cut(test['captial diff'],bins=[-5000,5000,100000], labels=['minor','major'])"
   ]
  },
  {
   "cell_type": "code",
   "execution_count": 9,
   "id": "2203a000",
   "metadata": {},
   "outputs": [],
   "source": [
    "test.drop(['fnlwgt'],axis=1,inplace=True)"
   ]
  },
  {
   "cell_type": "code",
   "execution_count": 10,
   "id": "c935914d",
   "metadata": {},
   "outputs": [],
   "source": [
    "test['hours-per-week']=pd.cut(test['hours-per-week'],bins=[0,30,40,100], labels=['lesser hours','normal hours','extra hours'])"
   ]
  },
  {
   "cell_type": "code",
   "execution_count": 11,
   "id": "66f94510",
   "metadata": {},
   "outputs": [],
   "source": [
    "test = test.drop(test[test['workclass'] == 'Without-pay'].index)"
   ]
  },
  {
   "cell_type": "code",
   "execution_count": 12,
   "id": "1c2f0aa5",
   "metadata": {},
   "outputs": [],
   "source": [
    "test = test.drop(test[test['workclass'] == 'Never-worked'].index)"
   ]
  },
  {
   "cell_type": "code",
   "execution_count": 13,
   "id": "d3a9d492",
   "metadata": {},
   "outputs": [],
   "source": [
    "test.drop(['educational-num'], axis = 1, inplace = True)"
   ]
  },
  {
   "cell_type": "code",
   "execution_count": 14,
   "id": "7045be0e",
   "metadata": {},
   "outputs": [],
   "source": [
    "test['education'].replace(['12th','7th-8th','9th','10th','11th','Preschool','5th-6th','1st-4th'],'School',inplace=True)"
   ]
  },
  {
   "cell_type": "code",
   "execution_count": 15,
   "id": "01b8b0ab",
   "metadata": {},
   "outputs": [],
   "source": [
    "test['race'].replace(['Black','Asian-Pac-Islander','Other','Amer-Indian-Eskimo'],'Other',inplace=True)"
   ]
  },
  {
   "cell_type": "code",
   "execution_count": 16,
   "id": "fc80f9f6",
   "metadata": {},
   "outputs": [
    {
     "data": {
      "text/plain": [
       "White    775\n",
       "Other    124\n",
       "Name: race, dtype: int64"
      ]
     },
     "execution_count": 16,
     "metadata": {},
     "output_type": "execute_result"
    }
   ],
   "source": [
    "test['race'].value_counts()"
   ]
  },
  {
   "cell_type": "code",
   "execution_count": 17,
   "id": "61a963f1",
   "metadata": {},
   "outputs": [
    {
     "data": {
      "text/plain": [
       "array(['Portugal', 'United-States', 'Mexico', 'Trinadad&Tobago', 'Poland',\n",
       "       'Columbia', 'Puerto-Rico', 'Cambodia', 'Canada', 'Thailand',\n",
       "       'El-Salvador', 'Jamaica', 'Italy', 'Ecuador', 'Philippines',\n",
       "       'China', 'Greece', 'Nicaragua', 'Taiwan', 'Laos', 'Cuba',\n",
       "       'England', 'France', 'India', 'Guatemala', 'Germany', 'Haiti',\n",
       "       'South', 'Dominican-Republic'], dtype=object)"
      ]
     },
     "execution_count": 17,
     "metadata": {},
     "output_type": "execute_result"
    }
   ],
   "source": [
    "countries=np.array(test['native-country'].unique())\n",
    "countries"
   ]
  },
  {
   "cell_type": "code",
   "execution_count": 19,
   "id": "e8196d33",
   "metadata": {},
   "outputs": [
    {
     "data": {
      "text/plain": [
       "array(['Portugal', 'Trinadad&Tobago', 'Poland', 'Columbia', 'Puerto-Rico',\n",
       "       'Cambodia', 'Canada', 'Thailand', 'El-Salvador', 'Jamaica',\n",
       "       'Italy', 'Ecuador', 'Philippines', 'China', 'Greece', 'Nicaragua',\n",
       "       'Taiwan', 'Laos', 'Cuba', 'England', 'France', 'India',\n",
       "       'Guatemala', 'Germany', 'Haiti', 'South', 'Dominican-Republic'],\n",
       "      dtype=object)"
      ]
     },
     "execution_count": 19,
     "metadata": {},
     "output_type": "execute_result"
    }
   ],
   "source": [
    "countries=np.delete(countries,1)\n",
    "countries"
   ]
  },
  {
   "cell_type": "code",
   "execution_count": 20,
   "id": "c3d8de81",
   "metadata": {},
   "outputs": [],
   "source": [
    "test['native-country'].replace(countries,'Other',inplace=True)"
   ]
  },
  {
   "cell_type": "code",
   "execution_count": 22,
   "id": "048436c1",
   "metadata": {},
   "outputs": [
    {
     "data": {
      "text/plain": [
       "United-States    819\n",
       "Other             67\n",
       "Mexico            13\n",
       "Name: native-country, dtype: int64"
      ]
     },
     "execution_count": 22,
     "metadata": {},
     "output_type": "execute_result"
    }
   ],
   "source": [
    "test['native-country'].value_counts()"
   ]
  },
  {
   "cell_type": "code",
   "execution_count": 23,
   "id": "625a6e9c",
   "metadata": {},
   "outputs": [],
   "source": [
    "test['native-country'].replace('Mexico','Other',inplace=True)"
   ]
  },
  {
   "cell_type": "code",
   "execution_count": 24,
   "id": "85042f69",
   "metadata": {},
   "outputs": [
    {
     "data": {
      "text/plain": [
       "United-States    819\n",
       "Other             80\n",
       "Name: native-country, dtype: int64"
      ]
     },
     "execution_count": 24,
     "metadata": {},
     "output_type": "execute_result"
    }
   ],
   "source": [
    "test['native-country'].value_counts()"
   ]
  },
  {
   "cell_type": "code",
   "execution_count": 25,
   "id": "7484b7ca",
   "metadata": {},
   "outputs": [
    {
     "data": {
      "text/html": [
       "<div>\n",
       "<style scoped>\n",
       "    .dataframe tbody tr th:only-of-type {\n",
       "        vertical-align: middle;\n",
       "    }\n",
       "\n",
       "    .dataframe tbody tr th {\n",
       "        vertical-align: top;\n",
       "    }\n",
       "\n",
       "    .dataframe thead th {\n",
       "        text-align: right;\n",
       "    }\n",
       "</style>\n",
       "<table border=\"1\" class=\"dataframe\">\n",
       "  <thead>\n",
       "    <tr style=\"text-align: right;\">\n",
       "      <th></th>\n",
       "      <th>age</th>\n",
       "      <th>workclass</th>\n",
       "      <th>education</th>\n",
       "      <th>marital-status</th>\n",
       "      <th>occupation</th>\n",
       "      <th>relationship</th>\n",
       "      <th>race</th>\n",
       "      <th>gender</th>\n",
       "      <th>hours-per-week</th>\n",
       "      <th>native-country</th>\n",
       "      <th>captial diff</th>\n",
       "    </tr>\n",
       "  </thead>\n",
       "  <tbody>\n",
       "    <tr>\n",
       "      <th>0</th>\n",
       "      <td>Adult</td>\n",
       "      <td>Self-emp-not-inc</td>\n",
       "      <td>HS-grad</td>\n",
       "      <td>Married-civ-spouse</td>\n",
       "      <td>Craft-repair</td>\n",
       "      <td>Husband</td>\n",
       "      <td>White</td>\n",
       "      <td>Male</td>\n",
       "      <td>normal hours</td>\n",
       "      <td>Other</td>\n",
       "      <td>minor</td>\n",
       "    </tr>\n",
       "    <tr>\n",
       "      <th>1</th>\n",
       "      <td>Adult</td>\n",
       "      <td>Private</td>\n",
       "      <td>Assoc-acdm</td>\n",
       "      <td>Married-civ-spouse</td>\n",
       "      <td>Craft-repair</td>\n",
       "      <td>Husband</td>\n",
       "      <td>White</td>\n",
       "      <td>Male</td>\n",
       "      <td>extra hours</td>\n",
       "      <td>United-States</td>\n",
       "      <td>minor</td>\n",
       "    </tr>\n",
       "    <tr>\n",
       "      <th>2</th>\n",
       "      <td>Adult</td>\n",
       "      <td>Private</td>\n",
       "      <td>HS-grad</td>\n",
       "      <td>Married-civ-spouse</td>\n",
       "      <td>Craft-repair</td>\n",
       "      <td>Husband</td>\n",
       "      <td>Other</td>\n",
       "      <td>Male</td>\n",
       "      <td>normal hours</td>\n",
       "      <td>United-States</td>\n",
       "      <td>minor</td>\n",
       "    </tr>\n",
       "    <tr>\n",
       "      <th>3</th>\n",
       "      <td>Young</td>\n",
       "      <td>Private</td>\n",
       "      <td>School</td>\n",
       "      <td>Never-married</td>\n",
       "      <td>Handlers-cleaners</td>\n",
       "      <td>Own-child</td>\n",
       "      <td>White</td>\n",
       "      <td>Male</td>\n",
       "      <td>lesser hours</td>\n",
       "      <td>United-States</td>\n",
       "      <td>minor</td>\n",
       "    </tr>\n",
       "    <tr>\n",
       "      <th>4</th>\n",
       "      <td>Adult</td>\n",
       "      <td>Self-emp-not-inc</td>\n",
       "      <td>HS-grad</td>\n",
       "      <td>Married-civ-spouse</td>\n",
       "      <td>Farming-fishing</td>\n",
       "      <td>Husband</td>\n",
       "      <td>White</td>\n",
       "      <td>Male</td>\n",
       "      <td>normal hours</td>\n",
       "      <td>United-States</td>\n",
       "      <td>minor</td>\n",
       "    </tr>\n",
       "  </tbody>\n",
       "</table>\n",
       "</div>"
      ],
      "text/plain": [
       "     age         workclass   education      marital-status         occupation  \\\n",
       "0  Adult  Self-emp-not-inc     HS-grad  Married-civ-spouse       Craft-repair   \n",
       "1  Adult           Private  Assoc-acdm  Married-civ-spouse       Craft-repair   \n",
       "2  Adult           Private     HS-grad  Married-civ-spouse       Craft-repair   \n",
       "3  Young           Private      School       Never-married  Handlers-cleaners   \n",
       "4  Adult  Self-emp-not-inc     HS-grad  Married-civ-spouse    Farming-fishing   \n",
       "\n",
       "  relationship   race gender hours-per-week native-country captial diff  \n",
       "0      Husband  White   Male   normal hours          Other        minor  \n",
       "1      Husband  White   Male    extra hours  United-States        minor  \n",
       "2      Husband  Other   Male   normal hours  United-States        minor  \n",
       "3    Own-child  White   Male   lesser hours  United-States        minor  \n",
       "4      Husband  White   Male   normal hours  United-States        minor  "
      ]
     },
     "execution_count": 25,
     "metadata": {},
     "output_type": "execute_result"
    }
   ],
   "source": [
    "test.head()"
   ]
  },
  {
   "cell_type": "code",
   "execution_count": null,
   "id": "ae7c2325",
   "metadata": {},
   "outputs": [],
   "source": []
  }
 ],
 "metadata": {
  "kernelspec": {
   "display_name": "Python 3 (ipykernel)",
   "language": "python",
   "name": "python3"
  },
  "language_info": {
   "codemirror_mode": {
    "name": "ipython",
    "version": 3
   },
   "file_extension": ".py",
   "mimetype": "text/x-python",
   "name": "python",
   "nbconvert_exporter": "python",
   "pygments_lexer": "ipython3",
   "version": "3.8.13"
  }
 },
 "nbformat": 4,
 "nbformat_minor": 5
}
