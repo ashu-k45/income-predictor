{
 "cells": [
  {
   "cell_type": "code",
   "execution_count": 2,
   "id": "3a2d843d",
   "metadata": {},
   "outputs": [],
   "source": [
    "import numpy as np\n",
    "import pandas as pd\n",
    "\n",
    "\n",
    "import matplotlib.pyplot as plt\n",
    "from matplotlib import rcParams\n",
    "import seaborn as sns\n",
    "%matplotlib inline\n",
    "\n",
    "\n",
    "import warnings\n",
    "warnings.filterwarnings('ignore');"
   ]
  },
  {
   "cell_type": "code",
   "execution_count": 3,
   "id": "bd083de5",
   "metadata": {},
   "outputs": [],
   "source": [
    "test=pd.read_csv(\"test.csv\")"
   ]
  },
  {
   "cell_type": "code",
   "execution_count": 4,
   "id": "d9fc1649",
   "metadata": {},
   "outputs": [],
   "source": [
    "test['age'] = pd.cut(test['age'], bins = [0, 25, 50, 100], labels = ['Young', 'Adult', 'Old'])"
   ]
  },
  {
   "cell_type": "code",
   "execution_count": 5,
   "id": "19abbaf9",
   "metadata": {},
   "outputs": [],
   "source": [
    "test['captial diff']=test['capital-gain'] - test['capital-loss']"
   ]
  },
  {
   "cell_type": "code",
   "execution_count": 6,
   "id": "0d362929",
   "metadata": {},
   "outputs": [],
   "source": [
    "test.drop('capital-gain',axis=1,inplace=True)"
   ]
  },
  {
   "cell_type": "code",
   "execution_count": 7,
   "id": "f5f5ea91",
   "metadata": {},
   "outputs": [],
   "source": [
    "test.drop('capital-loss',axis=1,inplace=True)"
   ]
  },
  {
   "cell_type": "code",
   "execution_count": 8,
   "id": "f4adf747",
   "metadata": {},
   "outputs": [],
   "source": [
    "test['captial diff']=pd.cut(test['captial diff'],bins=[-5000,5000,100000], labels=['minor','major'])"
   ]
  },
  {
   "cell_type": "code",
   "execution_count": 9,
   "id": "82896bf1",
   "metadata": {},
   "outputs": [],
   "source": [
    "test.drop(['fnlwgt'],axis=1,inplace=True)"
   ]
  },
  {
   "cell_type": "code",
   "execution_count": 10,
   "id": "62ef6eb7",
   "metadata": {},
   "outputs": [],
   "source": [
    "test['hours-per-week']=pd.cut(test['hours-per-week'],bins=[0,30,40,100], labels=['lesser hours','normal hours','extra hours'])"
   ]
  },
  {
   "cell_type": "code",
   "execution_count": 11,
   "id": "6b828380",
   "metadata": {},
   "outputs": [],
   "source": [
    "test = test.drop(test[test['workclass'] == 'Without-pay'].index)"
   ]
  },
  {
   "cell_type": "code",
   "execution_count": 12,
   "id": "5679ecbf",
   "metadata": {},
   "outputs": [],
   "source": [
    "test = test.drop(test[test['workclass'] == 'Never-worked'].index)"
   ]
  },
  {
   "cell_type": "code",
   "execution_count": 13,
   "id": "10472b4d",
   "metadata": {},
   "outputs": [],
   "source": [
    "test.drop(['educational-num'], axis = 1, inplace = True)"
   ]
  },
  {
   "cell_type": "code",
   "execution_count": 14,
   "id": "76b55b2e",
   "metadata": {},
   "outputs": [],
   "source": [
    "test['education'].replace(['12th','7th-8th','9th','10th','11th','Preschool','5th-6th','1st-4th'],'School',inplace=True)"
   ]
  },
  {
   "cell_type": "code",
   "execution_count": 15,
   "id": "aae9f7fe",
   "metadata": {},
   "outputs": [],
   "source": [
    "test['race'].replace(['Black','Asian-Pac-Islander','Other','Amer-Indian-Eskimo'],'Other',inplace=True)"
   ]
  },
  {
   "cell_type": "code",
   "execution_count": 16,
   "id": "0bb0b20e",
   "metadata": {},
   "outputs": [
    {
     "data": {
      "text/plain": [
       "White    775\n",
       "Other    124\n",
       "Name: race, dtype: int64"
      ]
     },
     "execution_count": 16,
     "metadata": {},
     "output_type": "execute_result"
    }
   ],
   "source": [
    "test['race'].value_counts()"
   ]
  },
  {
   "cell_type": "code",
   "execution_count": 17,
   "id": "f4f16ef8",
   "metadata": {},
   "outputs": [
    {
     "data": {
      "text/plain": [
       "array(['Portugal', 'United-States', 'Mexico', 'Trinadad&Tobago', 'Poland',\n",
       "       'Columbia', 'Puerto-Rico', 'Cambodia', 'Canada', 'Thailand',\n",
       "       'El-Salvador', 'Jamaica', 'Italy', 'Ecuador', 'Philippines',\n",
       "       'China', 'Greece', 'Nicaragua', 'Taiwan', 'Laos', 'Cuba',\n",
       "       'England', 'France', 'India', 'Guatemala', 'Germany', 'Haiti',\n",
       "       'South', 'Dominican-Republic'], dtype=object)"
      ]
     },
     "execution_count": 17,
     "metadata": {},
     "output_type": "execute_result"
    }
   ],
   "source": [
    "countries=np.array(test['native-country'].unique())\n",
    "countries"
   ]
  },
  {
   "cell_type": "code",
   "execution_count": 19,
   "id": "65cfa6b7",
   "metadata": {},
   "outputs": [
    {
     "data": {
      "text/plain": [
       "array(['Portugal', 'Trinadad&Tobago', 'Poland', 'Columbia', 'Puerto-Rico',\n",
       "       'Cambodia', 'Canada', 'Thailand', 'El-Salvador', 'Jamaica',\n",
       "       'Italy', 'Ecuador', 'Philippines', 'China', 'Greece', 'Nicaragua',\n",
       "       'Taiwan', 'Laos', 'Cuba', 'England', 'France', 'India',\n",
       "       'Guatemala', 'Germany', 'Haiti', 'South', 'Dominican-Republic'],\n",
       "      dtype=object)"
      ]
     },
     "execution_count": 19,
     "metadata": {},
     "output_type": "execute_result"
    }
   ],
   "source": [
    "countries=np.delete(countries,1)\n",
    "countries"
   ]
  },
  {
   "cell_type": "code",
   "execution_count": 20,
   "id": "98274e55",
   "metadata": {},
   "outputs": [],
   "source": [
    "test['native-country'].replace(countries,'Other',inplace=True)"
   ]
  },
  {
   "cell_type": "code",
   "execution_count": 22,
   "id": "a4adb89d",
   "metadata": {},
   "outputs": [
    {
     "data": {
      "text/plain": [
       "United-States    819\n",
       "Other             67\n",
       "Mexico            13\n",
       "Name: native-country, dtype: int64"
      ]
     },
     "execution_count": 22,
     "metadata": {},
     "output_type": "execute_result"
    }
   ],
   "source": [
    "test['native-country'].value_counts()"
   ]
  },
  {
   "cell_type": "code",
   "execution_count": 23,
   "id": "453a9eef",
   "metadata": {},
   "outputs": [],
   "source": [
    "test['native-country'].replace('Mexico','Other',inplace=True)"
   ]
  },
  {
   "cell_type": "code",
   "execution_count": 24,
   "id": "edbf676a",
   "metadata": {},
   "outputs": [
    {
     "data": {
      "text/plain": [
       "United-States    819\n",
       "Other             80\n",
       "Name: native-country, dtype: int64"
      ]
     },
     "execution_count": 24,
     "metadata": {},
     "output_type": "execute_result"
    }
   ],
   "source": [
    "test['native-country'].value_counts()"
   ]
  },
  {
   "cell_type": "code",
   "execution_count": 25,
   "id": "9f9cc7e8",
   "metadata": {},
   "outputs": [
    {
     "data": {
      "text/html": [
       "<div>\n",
       "<style scoped>\n",
       "    .dataframe tbody tr th:only-of-type {\n",
       "        vertical-align: middle;\n",
       "    }\n",
       "\n",
       "    .dataframe tbody tr th {\n",
       "        vertical-align: top;\n",
       "    }\n",
       "\n",
       "    .dataframe thead th {\n",
       "        text-align: right;\n",
       "    }\n",
       "</style>\n",
       "<table border=\"1\" class=\"dataframe\">\n",
       "  <thead>\n",
       "    <tr style=\"text-align: right;\">\n",
       "      <th></th>\n",
       "      <th>age</th>\n",
       "      <th>workclass</th>\n",
       "      <th>education</th>\n",
       "      <th>marital-status</th>\n",
       "      <th>occupation</th>\n",
       "      <th>relationship</th>\n",
       "      <th>race</th>\n",
       "      <th>gender</th>\n",
       "      <th>hours-per-week</th>\n",
       "      <th>native-country</th>\n",
       "      <th>captial diff</th>\n",
       "    </tr>\n",
       "  </thead>\n",
       "  <tbody>\n",
       "    <tr>\n",
       "      <th>0</th>\n",
       "      <td>Adult</td>\n",
       "      <td>Self-emp-not-inc</td>\n",
       "      <td>HS-grad</td>\n",
       "      <td>Married-civ-spouse</td>\n",
       "      <td>Craft-repair</td>\n",
       "      <td>Husband</td>\n",
       "      <td>White</td>\n",
       "      <td>Male</td>\n",
       "      <td>normal hours</td>\n",
       "      <td>Other</td>\n",
       "      <td>minor</td>\n",
       "    </tr>\n",
       "    <tr>\n",
       "      <th>1</th>\n",
       "      <td>Adult</td>\n",
       "      <td>Private</td>\n",
       "      <td>Assoc-acdm</td>\n",
       "      <td>Married-civ-spouse</td>\n",
       "      <td>Craft-repair</td>\n",
       "      <td>Husband</td>\n",
       "      <td>White</td>\n",
       "      <td>Male</td>\n",
       "      <td>extra hours</td>\n",
       "      <td>United-States</td>\n",
       "      <td>minor</td>\n",
       "    </tr>\n",
       "    <tr>\n",
       "      <th>2</th>\n",
       "      <td>Adult</td>\n",
       "      <td>Private</td>\n",
       "      <td>HS-grad</td>\n",
       "      <td>Married-civ-spouse</td>\n",
       "      <td>Craft-repair</td>\n",
       "      <td>Husband</td>\n",
       "      <td>Other</td>\n",
       "      <td>Male</td>\n",
       "      <td>normal hours</td>\n",
       "      <td>United-States</td>\n",
       "      <td>minor</td>\n",
       "    </tr>\n",
       "    <tr>\n",
       "      <th>3</th>\n",
       "      <td>Young</td>\n",
       "      <td>Private</td>\n",
       "      <td>School</td>\n",
       "      <td>Never-married</td>\n",
       "      <td>Handlers-cleaners</td>\n",
       "      <td>Own-child</td>\n",
       "      <td>White</td>\n",
       "      <td>Male</td>\n",
       "      <td>lesser hours</td>\n",
       "      <td>United-States</td>\n",
       "      <td>minor</td>\n",
       "    </tr>\n",
       "    <tr>\n",
       "      <th>4</th>\n",
       "      <td>Adult</td>\n",
       "      <td>Self-emp-not-inc</td>\n",
       "      <td>HS-grad</td>\n",
       "      <td>Married-civ-spouse</td>\n",
       "      <td>Farming-fishing</td>\n",
       "      <td>Husband</td>\n",
       "      <td>White</td>\n",
       "      <td>Male</td>\n",
       "      <td>normal hours</td>\n",
       "      <td>United-States</td>\n",
       "      <td>minor</td>\n",
       "    </tr>\n",
       "  </tbody>\n",
       "</table>\n",
       "</div>"
      ],
      "text/plain": [
       "     age         workclass   education      marital-status         occupation  \\\n",
       "0  Adult  Self-emp-not-inc     HS-grad  Married-civ-spouse       Craft-repair   \n",
       "1  Adult           Private  Assoc-acdm  Married-civ-spouse       Craft-repair   \n",
       "2  Adult           Private     HS-grad  Married-civ-spouse       Craft-repair   \n",
       "3  Young           Private      School       Never-married  Handlers-cleaners   \n",
       "4  Adult  Self-emp-not-inc     HS-grad  Married-civ-spouse    Farming-fishing   \n",
       "\n",
       "  relationship   race gender hours-per-week native-country captial diff  \n",
       "0      Husband  White   Male   normal hours          Other        minor  \n",
       "1      Husband  White   Male    extra hours  United-States        minor  \n",
       "2      Husband  Other   Male   normal hours  United-States        minor  \n",
       "3    Own-child  White   Male   lesser hours  United-States        minor  \n",
       "4      Husband  White   Male   normal hours  United-States        minor  "
      ]
     },
     "execution_count": 25,
     "metadata": {},
     "output_type": "execute_result"
    }
   ],
   "source": [
    "test.head()"
   ]
  },
  {
   "cell_type": "code",
   "execution_count": 26,
   "id": "f4cc499e",
   "metadata": {},
   "outputs": [],
   "source": [
    "X_test=test"
   ]
  },
  {
   "cell_type": "code",
   "execution_count": 27,
   "id": "55b66263",
   "metadata": {},
   "outputs": [
    {
     "data": {
      "text/html": [
       "<div>\n",
       "<style scoped>\n",
       "    .dataframe tbody tr th:only-of-type {\n",
       "        vertical-align: middle;\n",
       "    }\n",
       "\n",
       "    .dataframe tbody tr th {\n",
       "        vertical-align: top;\n",
       "    }\n",
       "\n",
       "    .dataframe thead th {\n",
       "        text-align: right;\n",
       "    }\n",
       "</style>\n",
       "<table border=\"1\" class=\"dataframe\">\n",
       "  <thead>\n",
       "    <tr style=\"text-align: right;\">\n",
       "      <th></th>\n",
       "      <th>age</th>\n",
       "      <th>workclass</th>\n",
       "      <th>education</th>\n",
       "      <th>marital-status</th>\n",
       "      <th>occupation</th>\n",
       "      <th>relationship</th>\n",
       "      <th>race</th>\n",
       "      <th>gender</th>\n",
       "      <th>hours-per-week</th>\n",
       "      <th>native-country</th>\n",
       "      <th>captial diff</th>\n",
       "    </tr>\n",
       "  </thead>\n",
       "  <tbody>\n",
       "    <tr>\n",
       "      <th>0</th>\n",
       "      <td>Adult</td>\n",
       "      <td>Self-emp-not-inc</td>\n",
       "      <td>HS-grad</td>\n",
       "      <td>Married-civ-spouse</td>\n",
       "      <td>Craft-repair</td>\n",
       "      <td>Husband</td>\n",
       "      <td>White</td>\n",
       "      <td>Male</td>\n",
       "      <td>normal hours</td>\n",
       "      <td>Other</td>\n",
       "      <td>minor</td>\n",
       "    </tr>\n",
       "    <tr>\n",
       "      <th>1</th>\n",
       "      <td>Adult</td>\n",
       "      <td>Private</td>\n",
       "      <td>Assoc-acdm</td>\n",
       "      <td>Married-civ-spouse</td>\n",
       "      <td>Craft-repair</td>\n",
       "      <td>Husband</td>\n",
       "      <td>White</td>\n",
       "      <td>Male</td>\n",
       "      <td>extra hours</td>\n",
       "      <td>United-States</td>\n",
       "      <td>minor</td>\n",
       "    </tr>\n",
       "    <tr>\n",
       "      <th>2</th>\n",
       "      <td>Adult</td>\n",
       "      <td>Private</td>\n",
       "      <td>HS-grad</td>\n",
       "      <td>Married-civ-spouse</td>\n",
       "      <td>Craft-repair</td>\n",
       "      <td>Husband</td>\n",
       "      <td>Other</td>\n",
       "      <td>Male</td>\n",
       "      <td>normal hours</td>\n",
       "      <td>United-States</td>\n",
       "      <td>minor</td>\n",
       "    </tr>\n",
       "    <tr>\n",
       "      <th>3</th>\n",
       "      <td>Young</td>\n",
       "      <td>Private</td>\n",
       "      <td>School</td>\n",
       "      <td>Never-married</td>\n",
       "      <td>Handlers-cleaners</td>\n",
       "      <td>Own-child</td>\n",
       "      <td>White</td>\n",
       "      <td>Male</td>\n",
       "      <td>lesser hours</td>\n",
       "      <td>United-States</td>\n",
       "      <td>minor</td>\n",
       "    </tr>\n",
       "    <tr>\n",
       "      <th>4</th>\n",
       "      <td>Adult</td>\n",
       "      <td>Self-emp-not-inc</td>\n",
       "      <td>HS-grad</td>\n",
       "      <td>Married-civ-spouse</td>\n",
       "      <td>Farming-fishing</td>\n",
       "      <td>Husband</td>\n",
       "      <td>White</td>\n",
       "      <td>Male</td>\n",
       "      <td>normal hours</td>\n",
       "      <td>United-States</td>\n",
       "      <td>minor</td>\n",
       "    </tr>\n",
       "  </tbody>\n",
       "</table>\n",
       "</div>"
      ],
      "text/plain": [
       "     age         workclass   education      marital-status         occupation  \\\n",
       "0  Adult  Self-emp-not-inc     HS-grad  Married-civ-spouse       Craft-repair   \n",
       "1  Adult           Private  Assoc-acdm  Married-civ-spouse       Craft-repair   \n",
       "2  Adult           Private     HS-grad  Married-civ-spouse       Craft-repair   \n",
       "3  Young           Private      School       Never-married  Handlers-cleaners   \n",
       "4  Adult  Self-emp-not-inc     HS-grad  Married-civ-spouse    Farming-fishing   \n",
       "\n",
       "  relationship   race gender hours-per-week native-country captial diff  \n",
       "0      Husband  White   Male   normal hours          Other        minor  \n",
       "1      Husband  White   Male    extra hours  United-States        minor  \n",
       "2      Husband  Other   Male   normal hours  United-States        minor  \n",
       "3    Own-child  White   Male   lesser hours  United-States        minor  \n",
       "4      Husband  White   Male   normal hours  United-States        minor  "
      ]
     },
     "execution_count": 27,
     "metadata": {},
     "output_type": "execute_result"
    }
   ],
   "source": []
  },
  {
   "cell_type": "code",
   "execution_count": 28,
   "id": "850e79ca",
   "metadata": {},
   "outputs": [],
   "source": [
    "X_test = pd.get_dummies(X_test)"
   ]
  },
  {
   "cell_type": "code",
   "execution_count": 29,
   "id": "f0764efa",
   "metadata": {},
   "outputs": [
    {
     "data": {
      "text/html": [
       "<div>\n",
       "<style scoped>\n",
       "    .dataframe tbody tr th:only-of-type {\n",
       "        vertical-align: middle;\n",
       "    }\n",
       "\n",
       "    .dataframe tbody tr th {\n",
       "        vertical-align: top;\n",
       "    }\n",
       "\n",
       "    .dataframe thead th {\n",
       "        text-align: right;\n",
       "    }\n",
       "</style>\n",
       "<table border=\"1\" class=\"dataframe\">\n",
       "  <thead>\n",
       "    <tr style=\"text-align: right;\">\n",
       "      <th></th>\n",
       "      <th>age_Young</th>\n",
       "      <th>age_Adult</th>\n",
       "      <th>age_Old</th>\n",
       "      <th>workclass_Federal-gov</th>\n",
       "      <th>workclass_Local-gov</th>\n",
       "      <th>workclass_Private</th>\n",
       "      <th>workclass_Self-emp-inc</th>\n",
       "      <th>workclass_Self-emp-not-inc</th>\n",
       "      <th>workclass_State-gov</th>\n",
       "      <th>education_Assoc-acdm</th>\n",
       "      <th>...</th>\n",
       "      <th>race_White</th>\n",
       "      <th>gender_Female</th>\n",
       "      <th>gender_Male</th>\n",
       "      <th>hours-per-week_lesser hours</th>\n",
       "      <th>hours-per-week_normal hours</th>\n",
       "      <th>hours-per-week_extra hours</th>\n",
       "      <th>native-country_Other</th>\n",
       "      <th>native-country_United-States</th>\n",
       "      <th>captial diff_minor</th>\n",
       "      <th>captial diff_major</th>\n",
       "    </tr>\n",
       "  </thead>\n",
       "  <tbody>\n",
       "    <tr>\n",
       "      <th>0</th>\n",
       "      <td>0</td>\n",
       "      <td>1</td>\n",
       "      <td>0</td>\n",
       "      <td>0</td>\n",
       "      <td>0</td>\n",
       "      <td>0</td>\n",
       "      <td>0</td>\n",
       "      <td>1</td>\n",
       "      <td>0</td>\n",
       "      <td>0</td>\n",
       "      <td>...</td>\n",
       "      <td>1</td>\n",
       "      <td>0</td>\n",
       "      <td>1</td>\n",
       "      <td>0</td>\n",
       "      <td>1</td>\n",
       "      <td>0</td>\n",
       "      <td>1</td>\n",
       "      <td>0</td>\n",
       "      <td>1</td>\n",
       "      <td>0</td>\n",
       "    </tr>\n",
       "    <tr>\n",
       "      <th>1</th>\n",
       "      <td>0</td>\n",
       "      <td>1</td>\n",
       "      <td>0</td>\n",
       "      <td>0</td>\n",
       "      <td>0</td>\n",
       "      <td>1</td>\n",
       "      <td>0</td>\n",
       "      <td>0</td>\n",
       "      <td>0</td>\n",
       "      <td>1</td>\n",
       "      <td>...</td>\n",
       "      <td>1</td>\n",
       "      <td>0</td>\n",
       "      <td>1</td>\n",
       "      <td>0</td>\n",
       "      <td>0</td>\n",
       "      <td>1</td>\n",
       "      <td>0</td>\n",
       "      <td>1</td>\n",
       "      <td>1</td>\n",
       "      <td>0</td>\n",
       "    </tr>\n",
       "    <tr>\n",
       "      <th>2</th>\n",
       "      <td>0</td>\n",
       "      <td>1</td>\n",
       "      <td>0</td>\n",
       "      <td>0</td>\n",
       "      <td>0</td>\n",
       "      <td>1</td>\n",
       "      <td>0</td>\n",
       "      <td>0</td>\n",
       "      <td>0</td>\n",
       "      <td>0</td>\n",
       "      <td>...</td>\n",
       "      <td>0</td>\n",
       "      <td>0</td>\n",
       "      <td>1</td>\n",
       "      <td>0</td>\n",
       "      <td>1</td>\n",
       "      <td>0</td>\n",
       "      <td>0</td>\n",
       "      <td>1</td>\n",
       "      <td>1</td>\n",
       "      <td>0</td>\n",
       "    </tr>\n",
       "    <tr>\n",
       "      <th>3</th>\n",
       "      <td>1</td>\n",
       "      <td>0</td>\n",
       "      <td>0</td>\n",
       "      <td>0</td>\n",
       "      <td>0</td>\n",
       "      <td>1</td>\n",
       "      <td>0</td>\n",
       "      <td>0</td>\n",
       "      <td>0</td>\n",
       "      <td>0</td>\n",
       "      <td>...</td>\n",
       "      <td>1</td>\n",
       "      <td>0</td>\n",
       "      <td>1</td>\n",
       "      <td>1</td>\n",
       "      <td>0</td>\n",
       "      <td>0</td>\n",
       "      <td>0</td>\n",
       "      <td>1</td>\n",
       "      <td>1</td>\n",
       "      <td>0</td>\n",
       "    </tr>\n",
       "    <tr>\n",
       "      <th>4</th>\n",
       "      <td>0</td>\n",
       "      <td>1</td>\n",
       "      <td>0</td>\n",
       "      <td>0</td>\n",
       "      <td>0</td>\n",
       "      <td>0</td>\n",
       "      <td>0</td>\n",
       "      <td>1</td>\n",
       "      <td>0</td>\n",
       "      <td>0</td>\n",
       "      <td>...</td>\n",
       "      <td>1</td>\n",
       "      <td>0</td>\n",
       "      <td>1</td>\n",
       "      <td>0</td>\n",
       "      <td>1</td>\n",
       "      <td>0</td>\n",
       "      <td>0</td>\n",
       "      <td>1</td>\n",
       "      <td>1</td>\n",
       "      <td>0</td>\n",
       "    </tr>\n",
       "  </tbody>\n",
       "</table>\n",
       "<p>5 rows × 56 columns</p>\n",
       "</div>"
      ],
      "text/plain": [
       "   age_Young  age_Adult  age_Old  workclass_Federal-gov  workclass_Local-gov  \\\n",
       "0          0          1        0                      0                    0   \n",
       "1          0          1        0                      0                    0   \n",
       "2          0          1        0                      0                    0   \n",
       "3          1          0        0                      0                    0   \n",
       "4          0          1        0                      0                    0   \n",
       "\n",
       "   workclass_Private  workclass_Self-emp-inc  workclass_Self-emp-not-inc  \\\n",
       "0                  0                       0                           1   \n",
       "1                  1                       0                           0   \n",
       "2                  1                       0                           0   \n",
       "3                  1                       0                           0   \n",
       "4                  0                       0                           1   \n",
       "\n",
       "   workclass_State-gov  education_Assoc-acdm  ...  race_White  gender_Female  \\\n",
       "0                    0                     0  ...           1              0   \n",
       "1                    0                     1  ...           1              0   \n",
       "2                    0                     0  ...           0              0   \n",
       "3                    0                     0  ...           1              0   \n",
       "4                    0                     0  ...           1              0   \n",
       "\n",
       "   gender_Male  hours-per-week_lesser hours  hours-per-week_normal hours  \\\n",
       "0            1                            0                            1   \n",
       "1            1                            0                            0   \n",
       "2            1                            0                            1   \n",
       "3            1                            1                            0   \n",
       "4            1                            0                            1   \n",
       "\n",
       "   hours-per-week_extra hours  native-country_Other  \\\n",
       "0                           0                     1   \n",
       "1                           1                     0   \n",
       "2                           0                     0   \n",
       "3                           0                     0   \n",
       "4                           0                     0   \n",
       "\n",
       "   native-country_United-States  captial diff_minor  captial diff_major  \n",
       "0                             0                   1                   0  \n",
       "1                             1                   1                   0  \n",
       "2                             1                   1                   0  \n",
       "3                             1                   1                   0  \n",
       "4                             1                   1                   0  \n",
       "\n",
       "[5 rows x 56 columns]"
      ]
     },
     "execution_count": 29,
     "metadata": {},
     "output_type": "execute_result"
    }
   ],
   "source": [
    "X_test.head()"
   ]
  },
  {
   "cell_type": "code",
   "execution_count": 30,
   "id": "e4ca928d",
   "metadata": {},
   "outputs": [],
   "source": [
    "X_test.to_csv('test_data.csv')"
   ]
  },
  {
   "cell_type": "code",
   "execution_count": null,
   "id": "897d0218",
   "metadata": {},
   "outputs": [],
   "source": []
  }
 ],
 "metadata": {
  "kernelspec": {
   "display_name": "Python 3 (ipykernel)",
   "language": "python",
   "name": "python3"
  },
  "language_info": {
   "codemirror_mode": {
    "name": "ipython",
    "version": 3
   },
   "file_extension": ".py",
   "mimetype": "text/x-python",
   "name": "python",
   "nbconvert_exporter": "python",
   "pygments_lexer": "ipython3",
   "version": "3.8.13"
  }
 },
 "nbformat": 4,
 "nbformat_minor": 5
}
